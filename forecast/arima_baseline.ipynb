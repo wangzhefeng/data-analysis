{
 "cells": [
  {
   "cell_type": "markdown",
   "metadata": {},
   "source": [
    "数据查看"
   ]
  },
  {
   "cell_type": "code",
   "execution_count": 14,
   "metadata": {},
   "outputs": [],
   "source": [
    "import numpy as np\n",
    "import pandas as pd\n",
    "import matplotlib.pyplot as plt\n",
    "import seaborn as sns\n",
    "%matplotlib inline\n",
    "import sklearn as sk\n",
    "import warnings\n",
    "import chardet\n",
    "warnings.filterwarnings(\"ignore\")\n",
    "from pycaret.regression import *"
   ]
  },
  {
   "cell_type": "code",
   "execution_count": 15,
   "metadata": {},
   "outputs": [],
   "source": [
    "data_rk = pd.read_excel('./入库流量数据.xlsx','Sheet1',index_col='TimeStample', encoding='utf-8')"
   ]
  },
  {
   "cell_type": "code",
   "execution_count": 16,
   "metadata": {},
   "outputs": [
    {
     "data": {
      "text/html": [
       "<div>\n",
       "<style scoped>\n",
       "    .dataframe tbody tr th:only-of-type {\n",
       "        vertical-align: middle;\n",
       "    }\n",
       "\n",
       "    .dataframe tbody tr th {\n",
       "        vertical-align: top;\n",
       "    }\n",
       "\n",
       "    .dataframe thead th {\n",
       "        text-align: right;\n",
       "    }\n",
       "</style>\n",
       "<table border=\"1\" class=\"dataframe\">\n",
       "  <thead>\n",
       "    <tr style=\"text-align: right;\">\n",
       "      <th></th>\n",
       "      <th>Qi</th>\n",
       "    </tr>\n",
       "    <tr>\n",
       "      <th>TimeStample</th>\n",
       "      <th></th>\n",
       "    </tr>\n",
       "  </thead>\n",
       "  <tbody>\n",
       "    <tr>\n",
       "      <th>2013-01-01 02:00:00</th>\n",
       "      <td>0.018201</td>\n",
       "    </tr>\n",
       "    <tr>\n",
       "      <th>2013-01-01 05:00:00</th>\n",
       "      <td>0.018196</td>\n",
       "    </tr>\n",
       "    <tr>\n",
       "      <th>2013-01-01 08:00:00</th>\n",
       "      <td>0.030095</td>\n",
       "    </tr>\n",
       "    <tr>\n",
       "      <th>2013-01-01 11:00:00</th>\n",
       "      <td>0.123196</td>\n",
       "    </tr>\n",
       "    <tr>\n",
       "      <th>2013-01-01 14:00:00</th>\n",
       "      <td>0.133178</td>\n",
       "    </tr>\n",
       "    <tr>\n",
       "      <th>...</th>\n",
       "      <td>...</td>\n",
       "    </tr>\n",
       "    <tr>\n",
       "      <th>2017-12-31 11:00:00</th>\n",
       "      <td>0.022744</td>\n",
       "    </tr>\n",
       "    <tr>\n",
       "      <th>2017-12-31 14:00:00</th>\n",
       "      <td>0.031933</td>\n",
       "    </tr>\n",
       "    <tr>\n",
       "      <th>2017-12-31 17:00:00</th>\n",
       "      <td>0.025255</td>\n",
       "    </tr>\n",
       "    <tr>\n",
       "      <th>2017-12-31 20:00:00</th>\n",
       "      <td>0.074108</td>\n",
       "    </tr>\n",
       "    <tr>\n",
       "      <th>2017-12-31 23:00:00</th>\n",
       "      <td>0.054175</td>\n",
       "    </tr>\n",
       "  </tbody>\n",
       "</table>\n",
       "<p>14275 rows × 1 columns</p>\n",
       "</div>"
      ],
      "text/plain": [
       "                           Qi\n",
       "TimeStample                  \n",
       "2013-01-01 02:00:00  0.018201\n",
       "2013-01-01 05:00:00  0.018196\n",
       "2013-01-01 08:00:00  0.030095\n",
       "2013-01-01 11:00:00  0.123196\n",
       "2013-01-01 14:00:00  0.133178\n",
       "...                       ...\n",
       "2017-12-31 11:00:00  0.022744\n",
       "2017-12-31 14:00:00  0.031933\n",
       "2017-12-31 17:00:00  0.025255\n",
       "2017-12-31 20:00:00  0.074108\n",
       "2017-12-31 23:00:00  0.054175\n",
       "\n",
       "[14275 rows x 1 columns]"
      ]
     },
     "execution_count": 16,
     "metadata": {},
     "output_type": "execute_result"
    }
   ],
   "source": [
    "data_rk[:-(31*8)*3]"
   ]
  },
  {
   "cell_type": "code",
   "execution_count": 4,
   "metadata": {},
   "outputs": [
    {
     "data": {
      "image/png": "[encoded data removed]",
      "text/plain": [
       "<Figure size 432x288 with 1 Axes>"
      ]
     },
     "metadata": {
      "needs_background": "light"
     },
     "output_type": "display_data"
    }
   ],
   "source": [
    "ax = sns.lineplot(data=data_rk[:-(31*8)*3])\n",
    "plt.show()"
   ]
  },
  {
   "cell_type": "code",
   "execution_count": 5,
   "metadata": {},
   "outputs": [
    {
     "data": {
      "text/html": [
       "<div>\n",
       "<style scoped>\n",
       "    .dataframe tbody tr th:only-of-type {\n",
       "        vertical-align: middle;\n",
       "    }\n",
       "\n",
       "    .dataframe tbody tr th {\n",
       "        vertical-align: top;\n",
       "    }\n",
       "\n",
       "    .dataframe thead th {\n",
       "        text-align: right;\n",
       "    }\n",
       "</style>\n",
       "<table border=\"1\" class=\"dataframe\">\n",
       "  <thead>\n",
       "    <tr style=\"text-align: right;\">\n",
       "      <th></th>\n",
       "      <th>Qi</th>\n",
       "    </tr>\n",
       "    <tr>\n",
       "      <th>TimeStample</th>\n",
       "      <th></th>\n",
       "    </tr>\n",
       "  </thead>\n",
       "  <tbody>\n",
       "    <tr>\n",
       "      <th>2018-10-01 02:00:00</th>\n",
       "      <td>0.456193</td>\n",
       "    </tr>\n",
       "    <tr>\n",
       "      <th>2018-10-01 05:00:00</th>\n",
       "      <td>0.442235</td>\n",
       "    </tr>\n",
       "    <tr>\n",
       "      <th>2018-10-01 08:00:00</th>\n",
       "      <td>0.437666</td>\n",
       "    </tr>\n",
       "    <tr>\n",
       "      <th>2018-10-01 11:00:00</th>\n",
       "      <td>0.461013</td>\n",
       "    </tr>\n",
       "    <tr>\n",
       "      <th>2018-10-01 14:00:00</th>\n",
       "      <td>0.437867</td>\n",
       "    </tr>\n",
       "    <tr>\n",
       "      <th>...</th>\n",
       "      <td>...</td>\n",
       "    </tr>\n",
       "    <tr>\n",
       "      <th>2018-10-31 11:00:00</th>\n",
       "      <td>0.194658</td>\n",
       "    </tr>\n",
       "    <tr>\n",
       "      <th>2018-10-31 14:00:00</th>\n",
       "      <td>0.087363</td>\n",
       "    </tr>\n",
       "    <tr>\n",
       "      <th>2018-10-31 17:00:00</th>\n",
       "      <td>0.085304</td>\n",
       "    </tr>\n",
       "    <tr>\n",
       "      <th>2018-10-31 20:00:00</th>\n",
       "      <td>0.192700</td>\n",
       "    </tr>\n",
       "    <tr>\n",
       "      <th>2018-10-31 23:00:00</th>\n",
       "      <td>0.035648</td>\n",
       "    </tr>\n",
       "  </tbody>\n",
       "</table>\n",
       "<p>248 rows × 1 columns</p>\n",
       "</div>"
      ],
      "text/plain": [
       "                           Qi\n",
       "TimeStample                  \n",
       "2018-10-01 02:00:00  0.456193\n",
       "2018-10-01 05:00:00  0.442235\n",
       "2018-10-01 08:00:00  0.437666\n",
       "2018-10-01 11:00:00  0.461013\n",
       "2018-10-01 14:00:00  0.437867\n",
       "...                       ...\n",
       "2018-10-31 11:00:00  0.194658\n",
       "2018-10-31 14:00:00  0.087363\n",
       "2018-10-31 17:00:00  0.085304\n",
       "2018-10-31 20:00:00  0.192700\n",
       "2018-10-31 23:00:00  0.035648\n",
       "\n",
       "[248 rows x 1 columns]"
      ]
     },
     "execution_count": 5,
     "metadata": {},
     "output_type": "execute_result"
    }
   ],
   "source": [
    "data_rk.iloc[-(31*8):]"
   ]
  },
  {
   "cell_type": "code",
   "execution_count": 6,
   "metadata": {},
   "outputs": [
    {
     "data": {
      "image/png": "[encoded data removed]",
      "text/plain": [
       "<Figure size 432x288 with 1 Axes>"
      ]
     },
     "metadata": {
      "needs_background": "light"
     },
     "output_type": "display_data"
    }
   ],
   "source": [
    "ax = sns.lineplot(data=data_rk.iloc[-(31*8):])\n",
    "plt.show()"
   ]
  },
  {
   "cell_type": "code",
   "execution_count": 7,
   "metadata": {},
   "outputs": [
    {
     "data": {
      "text/html": [
       "<div>\n",
       "<style scoped>\n",
       "    .dataframe tbody tr th:only-of-type {\n",
       "        vertical-align: middle;\n",
       "    }\n",
       "\n",
       "    .dataframe tbody tr th {\n",
       "        vertical-align: top;\n",
       "    }\n",
       "\n",
       "    .dataframe thead th {\n",
       "        text-align: right;\n",
       "    }\n",
       "</style>\n",
       "<table border=\"1\" class=\"dataframe\">\n",
       "  <thead>\n",
       "    <tr style=\"text-align: right;\">\n",
       "      <th></th>\n",
       "      <th>Qi</th>\n",
       "    </tr>\n",
       "    <tr>\n",
       "      <th>TimeStample</th>\n",
       "      <th></th>\n",
       "    </tr>\n",
       "  </thead>\n",
       "  <tbody>\n",
       "    <tr>\n",
       "      <th>2018-07-01 02:00:00</th>\n",
       "      <td>0.357283</td>\n",
       "    </tr>\n",
       "    <tr>\n",
       "      <th>2018-07-01 05:00:00</th>\n",
       "      <td>0.285184</td>\n",
       "    </tr>\n",
       "    <tr>\n",
       "      <th>2018-07-01 08:00:00</th>\n",
       "      <td>0.382839</td>\n",
       "    </tr>\n",
       "    <tr>\n",
       "      <th>2018-07-01 11:00:00</th>\n",
       "      <td>0.443290</td>\n",
       "    </tr>\n",
       "    <tr>\n",
       "      <th>2018-07-01 14:00:00</th>\n",
       "      <td>0.466586</td>\n",
       "    </tr>\n",
       "    <tr>\n",
       "      <th>...</th>\n",
       "      <td>...</td>\n",
       "    </tr>\n",
       "    <tr>\n",
       "      <th>2018-07-31 11:00:00</th>\n",
       "      <td>0.019230</td>\n",
       "    </tr>\n",
       "    <tr>\n",
       "      <th>2018-07-31 14:00:00</th>\n",
       "      <td>0.334789</td>\n",
       "    </tr>\n",
       "    <tr>\n",
       "      <th>2018-07-31 17:00:00</th>\n",
       "      <td>0.269167</td>\n",
       "    </tr>\n",
       "    <tr>\n",
       "      <th>2018-07-31 20:00:00</th>\n",
       "      <td>0.328915</td>\n",
       "    </tr>\n",
       "    <tr>\n",
       "      <th>2018-07-31 23:00:00</th>\n",
       "      <td>0.149269</td>\n",
       "    </tr>\n",
       "  </tbody>\n",
       "</table>\n",
       "<p>248 rows × 1 columns</p>\n",
       "</div>"
      ],
      "text/plain": [
       "                           Qi\n",
       "TimeStample                  \n",
       "2018-07-01 02:00:00  0.357283\n",
       "2018-07-01 05:00:00  0.285184\n",
       "2018-07-01 08:00:00  0.382839\n",
       "2018-07-01 11:00:00  0.443290\n",
       "2018-07-01 14:00:00  0.466586\n",
       "...                       ...\n",
       "2018-07-31 11:00:00  0.019230\n",
       "2018-07-31 14:00:00  0.334789\n",
       "2018-07-31 17:00:00  0.269167\n",
       "2018-07-31 20:00:00  0.328915\n",
       "2018-07-31 23:00:00  0.149269\n",
       "\n",
       "[248 rows x 1 columns]"
      ]
     },
     "execution_count": 7,
     "metadata": {},
     "output_type": "execute_result"
    }
   ],
   "source": [
    "data_rk.iloc[-(31*8*2):-(31*8)]"
   ]
  },
  {
   "cell_type": "code",
   "execution_count": 8,
   "metadata": {},
   "outputs": [
    {
     "data": {
      "image/png": "[encoded data removed]",
      "text/plain": [
       "<Figure size 432x288 with 1 Axes>"
      ]
     },
     "metadata": {
      "needs_background": "light"
     },
     "output_type": "display_data"
    }
   ],
   "source": [
    "ax = sns.lineplot(data=data_rk.iloc[-(31*8*2):-(31*8)])\n",
    "plt.show()"
   ]
  },
  {
   "cell_type": "code",
   "execution_count": 9,
   "metadata": {},
   "outputs": [
    {
     "data": {
      "text/html": [
       "<div>\n",
       "<style scoped>\n",
       "    .dataframe tbody tr th:only-of-type {\n",
       "        vertical-align: middle;\n",
       "    }\n",
       "\n",
       "    .dataframe tbody tr th {\n",
       "        vertical-align: top;\n",
       "    }\n",
       "\n",
       "    .dataframe thead th {\n",
       "        text-align: right;\n",
       "    }\n",
       "</style>\n",
       "<table border=\"1\" class=\"dataframe\">\n",
       "  <thead>\n",
       "    <tr style=\"text-align: right;\">\n",
       "      <th></th>\n",
       "      <th>Qi</th>\n",
       "    </tr>\n",
       "    <tr>\n",
       "      <th>TimeStample</th>\n",
       "      <th></th>\n",
       "    </tr>\n",
       "  </thead>\n",
       "  <tbody>\n",
       "    <tr>\n",
       "      <th>2018-01-01 02:00:00</th>\n",
       "      <td>0.020184</td>\n",
       "    </tr>\n",
       "    <tr>\n",
       "      <th>2018-01-01 05:00:00</th>\n",
       "      <td>0.025757</td>\n",
       "    </tr>\n",
       "    <tr>\n",
       "      <th>2018-01-01 08:00:00</th>\n",
       "      <td>0.022995</td>\n",
       "    </tr>\n",
       "    <tr>\n",
       "      <th>2018-01-01 11:00:00</th>\n",
       "      <td>0.015113</td>\n",
       "    </tr>\n",
       "    <tr>\n",
       "      <th>2018-01-01 14:00:00</th>\n",
       "      <td>0.017975</td>\n",
       "    </tr>\n",
       "    <tr>\n",
       "      <th>...</th>\n",
       "      <td>...</td>\n",
       "    </tr>\n",
       "    <tr>\n",
       "      <th>2018-01-31 11:00:00</th>\n",
       "      <td>0.012904</td>\n",
       "    </tr>\n",
       "    <tr>\n",
       "      <th>2018-01-31 14:00:00</th>\n",
       "      <td>0.083145</td>\n",
       "    </tr>\n",
       "    <tr>\n",
       "      <th>2018-01-31 17:00:00</th>\n",
       "      <td>0.100517</td>\n",
       "    </tr>\n",
       "    <tr>\n",
       "      <th>2018-01-31 20:00:00</th>\n",
       "      <td>0.093789</td>\n",
       "    </tr>\n",
       "    <tr>\n",
       "      <th>2018-01-31 23:00:00</th>\n",
       "      <td>0.123010</td>\n",
       "    </tr>\n",
       "  </tbody>\n",
       "</table>\n",
       "<p>248 rows × 1 columns</p>\n",
       "</div>"
      ],
      "text/plain": [
       "                           Qi\n",
       "TimeStample                  \n",
       "2018-01-01 02:00:00  0.020184\n",
       "2018-01-01 05:00:00  0.025757\n",
       "2018-01-01 08:00:00  0.022995\n",
       "2018-01-01 11:00:00  0.015113\n",
       "2018-01-01 14:00:00  0.017975\n",
       "...                       ...\n",
       "2018-01-31 11:00:00  0.012904\n",
       "2018-01-31 14:00:00  0.083145\n",
       "2018-01-31 17:00:00  0.100517\n",
       "2018-01-31 20:00:00  0.093789\n",
       "2018-01-31 23:00:00  0.123010\n",
       "\n",
       "[248 rows x 1 columns]"
      ]
     },
     "execution_count": 9,
     "metadata": {},
     "output_type": "execute_result"
    }
   ],
   "source": [
    "data_rk.iloc[-(31*8*3):-(31*8*2)]"
   ]
  },
  {
   "cell_type": "code",
   "execution_count": 10,
   "metadata": {},
   "outputs": [
    {
     "data": {
      "image/png": "[encoded data removed]",
      "text/plain": [
       "<Figure size 432x288 with 1 Axes>"
      ]
     },
     "metadata": {
      "needs_background": "light"
     },
     "output_type": "display_data"
    }
   ],
   "source": [
    "ax = sns.lineplot(data=data_rk.iloc[-(31*8*3):-(31*8*2)])\n",
    "plt.show()"
   ]
  },
  {
   "cell_type": "code",
   "execution_count": 13,
   "metadata": {},
   "outputs": [
    {
     "data": {
      "text/html": [
       "<div>\n",
       "<style scoped>\n",
       "    .dataframe tbody tr th:only-of-type {\n",
       "        vertical-align: middle;\n",
       "    }\n",
       "\n",
       "    .dataframe tbody tr th {\n",
       "        vertical-align: top;\n",
       "    }\n",
       "\n",
       "    .dataframe thead th {\n",
       "        text-align: right;\n",
       "    }\n",
       "</style>\n",
       "<table border=\"1\" class=\"dataframe\">\n",
       "  <thead>\n",
       "    <tr style=\"text-align: right;\">\n",
       "      <th></th>\n",
       "      <th>age</th>\n",
       "      <th>sex</th>\n",
       "      <th>bmi</th>\n",
       "      <th>bp</th>\n",
       "      <th>s1</th>\n",
       "      <th>s2</th>\n",
       "      <th>s3</th>\n",
       "      <th>s4</th>\n",
       "      <th>s5</th>\n",
       "      <th>s6</th>\n",
       "    </tr>\n",
       "  </thead>\n",
       "  <tbody>\n",
       "    <tr>\n",
       "      <th>0</th>\n",
       "      <td>0.038076</td>\n",
       "      <td>1</td>\n",
       "      <td>0.061696</td>\n",
       "      <td>0.021872</td>\n",
       "      <td>-0.044223</td>\n",
       "      <td>-0.034821</td>\n",
       "      <td>-0.043401</td>\n",
       "      <td>-0.002592</td>\n",
       "      <td>0.019908</td>\n",
       "      <td>-0.017646</td>\n",
       "    </tr>\n",
       "    <tr>\n",
       "      <th>1</th>\n",
       "      <td>-0.001882</td>\n",
       "      <td>0</td>\n",
       "      <td>-0.051474</td>\n",
       "      <td>-0.026328</td>\n",
       "      <td>-0.008449</td>\n",
       "      <td>-0.019163</td>\n",
       "      <td>0.074412</td>\n",
       "      <td>-0.039493</td>\n",
       "      <td>-0.068330</td>\n",
       "      <td>-0.092204</td>\n",
       "    </tr>\n",
       "    <tr>\n",
       "      <th>2</th>\n",
       "      <td>0.085299</td>\n",
       "      <td>1</td>\n",
       "      <td>0.044451</td>\n",
       "      <td>-0.005671</td>\n",
       "      <td>-0.045599</td>\n",
       "      <td>-0.034194</td>\n",
       "      <td>-0.032356</td>\n",
       "      <td>-0.002592</td>\n",
       "      <td>0.002864</td>\n",
       "      <td>-0.025930</td>\n",
       "    </tr>\n",
       "    <tr>\n",
       "      <th>3</th>\n",
       "      <td>-0.089063</td>\n",
       "      <td>0</td>\n",
       "      <td>-0.011595</td>\n",
       "      <td>-0.036656</td>\n",
       "      <td>0.012191</td>\n",
       "      <td>0.024991</td>\n",
       "      <td>-0.036038</td>\n",
       "      <td>0.034309</td>\n",
       "      <td>0.022692</td>\n",
       "      <td>-0.009362</td>\n",
       "    </tr>\n",
       "    <tr>\n",
       "      <th>4</th>\n",
       "      <td>0.005383</td>\n",
       "      <td>0</td>\n",
       "      <td>-0.036385</td>\n",
       "      <td>0.021872</td>\n",
       "      <td>0.003935</td>\n",
       "      <td>0.015596</td>\n",
       "      <td>0.008142</td>\n",
       "      <td>-0.002592</td>\n",
       "      <td>-0.031991</td>\n",
       "      <td>-0.046641</td>\n",
       "    </tr>\n",
       "  </tbody>\n",
       "</table>\n",
       "</div>"
      ],
      "text/plain": [
       "        age  sex       bmi        bp        s1        s2        s3        s4  \\\n",
       "0  0.038076    1  0.061696  0.021872 -0.044223 -0.034821 -0.043401 -0.002592   \n",
       "1 -0.001882    0 -0.051474 -0.026328 -0.008449 -0.019163  0.074412 -0.039493   \n",
       "2  0.085299    1  0.044451 -0.005671 -0.045599 -0.034194 -0.032356 -0.002592   \n",
       "3 -0.089063    0 -0.011595 -0.036656  0.012191  0.024991 -0.036038  0.034309   \n",
       "4  0.005383    0 -0.036385  0.021872  0.003935  0.015596  0.008142 -0.002592   \n",
       "\n",
       "         s5        s6  \n",
       "0  0.019908 -0.017646  \n",
       "1 -0.068330 -0.092204  \n",
       "2  0.002864 -0.025930  \n",
       "3  0.022692 -0.009362  \n",
       "4 -0.031991 -0.046641  "
      ]
     },
     "execution_count": 13,
     "metadata": {},
     "output_type": "execute_result"
    }
   ],
   "source": [
    "from sklearn.datasets import load_diabetes\n",
    "\n",
    "def fun(x):\n",
    "    if x >0:\n",
    "        return 1\n",
    "    else:\n",
    "        return 0\n",
    "# sklearn自带数据 diabetes 糖尿病数据集\n",
    "diabetes=load_diabetes()\n",
    "data = pd.DataFrame(diabetes.data, columns=diabetes.feature_names)\n",
    "#只抽取前80个数据\n",
    "df=data[:80]\n",
    "#由于diabetes中的数据均已归一化处理过，sex列中的值也归一化，现将其划分一下，大于0的设置为1，小于等于0的设置为0\n",
    "df['sex']=df['sex'].apply(lambda x: fun(x))\n",
    "#展示前5条数据\n",
    "df[:5]"
   ]
  },
  {
   "cell_type": "code",
   "execution_count": 14,
   "metadata": {},
   "outputs": [
    {
     "data": {
      "image/png": "[encoded data removed]",
      "text/plain": [
       "<Figure size 432x288 with 1 Axes>"
      ]
     },
     "metadata": {
      "needs_background": "light"
     },
     "output_type": "display_data"
    }
   ],
   "source": [
    "def fun(x):\n",
    "    if x >0:\n",
    "        return 1\n",
    "    else:\n",
    "        return 0\n",
    "# sklearn自带数据 diabetes 糖尿病数据集\n",
    "diabetes=load_diabetes()\n",
    "data = pd.DataFrame(diabetes.data, columns=diabetes.feature_names)\n",
    "#只抽取前80个数据\n",
    "df=data[:80]\n",
    "#由于diabetes中的数据均已归一化处理过，sex列中的值也归一化，现将其划分一下，大于0的设置为1，小于等于0的设置为0\n",
    "df['sex']=df['sex'].apply(lambda x: fun(x))\n",
    "\n",
    "\"\"\"\n",
    "案例1：绘制带有误差带的单线图，显示置信区间\n",
    "\"\"\"\n",
    "ax = sns.lineplot(x=\"age\", y=\"s4\",data=df)\n",
    "plt.show()"
   ]
  },
  {
   "cell_type": "code",
   "execution_count": 11,
   "metadata": {},
   "outputs": [],
   "source": [
    "from pmdarima.arima import auto_arima"
   ]
  },
  {
   "cell_type": "code",
   "execution_count": 12,
   "metadata": {},
   "outputs": [],
   "source": [
    "data_x = data_rk[:-(31*8)*3]\n",
    "data_y = data_rk.iloc[-(31*8):]\n",
    "data_y_2 = data_rk.iloc[-(31*8*2):-(31*8)]\n",
    "data_y_3 = data_rk.iloc[-(31*8*3):-(31*8*2)]"
   ]
  },
  {
   "cell_type": "code",
   "execution_count": 14,
   "metadata": {},
   "outputs": [],
   "source": [
    "import pmdarima as pm\n",
    "from pmdarima.model_selection import train_test_split\n",
    "import numpy as np\n",
    "import matplotlib.pyplot as plt"
   ]
  },
  {
   "cell_type": "code",
   "execution_count": 50,
   "metadata": {},
   "outputs": [
    {
     "name": "stdout",
     "output_type": "stream",
     "text": [
      "Performing stepwise search to minimize aic\n",
      " ARIMA(0,1,0)(0,1,1)[12]             : AIC=inf, Time=40.11 sec\n",
      " ARIMA(0,1,0)(0,1,0)[12]             : AIC=-213.204, Time=6.30 sec\n",
      " ARIMA(1,1,0)(1,1,0)[12]             : AIC=-313.806, Time=62.52 sec\n",
      " ARIMA(0,1,1)(0,1,1)[12]             : AIC=inf, Time=51.36 sec\n",
      " ARIMA(1,1,0)(0,1,0)[12]             : AIC=-241.700, Time=10.08 sec\n",
      " ARIMA(1,1,0)(2,1,0)[12]             : AIC=-325.471, Time=58.06 sec\n",
      " ARIMA(1,1,0)(2,1,1)[12]             : AIC=inf, Time=352.72 sec\n",
      " ARIMA(1,1,0)(1,1,1)[12]             : AIC=inf, Time=129.88 sec\n",
      " ARIMA(0,1,0)(2,1,0)[12]             : AIC=-294.957, Time=119.00 sec\n",
      " ARIMA(2,1,0)(2,1,0)[12]             : AIC=-330.779, Time=194.78 sec\n",
      " ARIMA(2,1,0)(1,1,0)[12]             : AIC=-317.101, Time=82.97 sec\n",
      " ARIMA(2,1,0)(2,1,1)[12]             : AIC=inf, Time=452.75 sec\n",
      " ARIMA(2,1,0)(1,1,1)[12]             : AIC=inf, Time=312.38 sec\n",
      " ARIMA(3,1,0)(2,1,0)[12]             : AIC=-334.042, Time=432.57 sec\n",
      " ARIMA(3,1,0)(1,1,0)[12]             : AIC=-322.530, Time=94.46 sec\n",
      " ARIMA(3,1,0)(2,1,1)[12]             : AIC=inf, Time=656.48 sec\n",
      " ARIMA(3,1,0)(1,1,1)[12]             : AIC=inf, Time=380.52 sec\n",
      " ARIMA(4,1,0)(2,1,0)[12]             : AIC=-332.426, Time=347.14 sec\n",
      " ARIMA(3,1,1)(2,1,0)[12]             : AIC=inf, Time=nan sec\n",
      " ARIMA(2,1,1)(2,1,0)[12]             : AIC=-337.531, Time=535.55 sec\n",
      " ARIMA(2,1,1)(1,1,0)[12]             : AIC=-325.049, Time=223.61 sec\n",
      " ARIMA(2,1,1)(2,1,1)[12]             : AIC=inf, Time=534.94 sec\n",
      " ARIMA(2,1,1)(1,1,1)[12]             : AIC=inf, Time=318.69 sec\n",
      " ARIMA(1,1,1)(2,1,0)[12]             : AIC=-339.324, Time=398.73 sec\n",
      " ARIMA(1,1,1)(1,1,0)[12]             : AIC=-326.194, Time=122.32 sec\n",
      " ARIMA(1,1,1)(2,1,1)[12]             : AIC=inf, Time=431.17 sec\n",
      " ARIMA(1,1,1)(1,1,1)[12]             : AIC=inf, Time=292.09 sec\n",
      " ARIMA(0,1,1)(2,1,0)[12]             : AIC=-339.579, Time=235.96 sec\n",
      " ARIMA(0,1,1)(1,1,0)[12]             : AIC=-327.432, Time=25.47 sec\n",
      " ARIMA(0,1,1)(2,1,1)[12]             : AIC=inf, Time=348.27 sec\n",
      " ARIMA(0,1,1)(1,1,1)[12]             : AIC=inf, Time=174.90 sec\n",
      " ARIMA(0,1,2)(2,1,0)[12]             : AIC=-339.052, Time=313.24 sec\n",
      " ARIMA(1,1,2)(2,1,0)[12]             : AIC=-337.409, Time=481.30 sec\n",
      " ARIMA(0,1,1)(2,1,0)[12] intercept   : AIC=-337.606, Time=644.82 sec\n",
      "\n",
      "Best model:  ARIMA(0,1,1)(2,1,0)[12]          \n",
      "Total fit time: 9075.624 seconds\n"
     ]
    }
   ],
   "source": [
    "# Load/split your data\n",
    "# y = pm.datasets.load_wineind()\n",
    "train = data_y\n",
    "\n",
    "# Fit your model\n",
    "model = pm.auto_arima(train,\n",
    "                      start_p=0,start_q=0,start_P=0,\n",
    "                      max_p=12, max_q=12,\n",
    "                      m=12, seasonal=True,\n",
    "                      trace=True,\n",
    "                      d=1, D=1,\n",
    "                      method=\"basinhopping\",\n",
    "                      error_action='ignore',  # don't want to know if an order does not work\n",
    "                      suppress_warnings=True,  # don't want convergence warnings\n",
    "                      stepwise=True, njob=-1)"
   ]
  },
  {
   "cell_type": "code",
   "execution_count": 51,
   "metadata": {
    "scrolled": true
   },
   "outputs": [
    {
     "data": {
      "image/png": "[encoded data removed]",
      "text/plain": [
       "<Figure size 432x288 with 1 Axes>"
      ]
     },
     "metadata": {
      "needs_background": "light"
     },
     "output_type": "display_data"
    }
   ],
   "source": [
    "# make your forecasts\n",
    "forecasts = model.predict(56)  # predict N steps into the future\n",
    "\n",
    "# Visualize the forecasts (blue=train, green=forecasts)\n",
    "x = np.arange(data_y.shape[0]+56)\n",
    "plt.plot(x[:-56], train, c='blue')\n",
    "plt.plot(x[-56:], forecasts, c='green')\n",
    "plt.show()"
   ]
  },
  {
   "cell_type": "code",
   "execution_count": 52,
   "metadata": {},
   "outputs": [
    {
     "data": {
      "text/plain": [
       "array([ 0.28774108,  0.11103824,  0.17239953,  0.22356922,  0.06045907,\n",
       "       -0.05900795,  0.05438573,  0.07542652,  0.03917203, -0.01579484,\n",
       "        0.06233511,  0.10736955,  0.23458896,  0.05575577,  0.12404616,\n",
       "        0.24420147,  0.02251222, -0.09874765,  0.02631198,  0.04594967,\n",
       "       -0.01750948, -0.05089348,  0.02577806,  0.02845665,  0.16103948,\n",
       "       -0.00381332,  0.06083664,  0.18273492, -0.03547245, -0.1505946 ,\n",
       "       -0.03131737, -0.00564109, -0.06804477, -0.10311989, -0.01821178,\n",
       "       -0.03651509,  0.12327984, -0.05061765,  0.01481098,  0.11845423,\n",
       "       -0.08764904, -0.20652992, -0.08617907, -0.06429005, -0.12068802,\n",
       "       -0.15994326, -0.08031356, -0.07377619,  0.06606167, -0.10510111,\n",
       "       -0.03930523,  0.07640513, -0.13884628, -0.25667177, -0.13562584,\n",
       "       -0.11263739])"
      ]
     },
     "execution_count": 52,
     "metadata": {},
     "output_type": "execute_result"
    }
   ],
   "source": [
    "forecasts"
   ]
  },
  {
   "cell_type": "code",
   "execution_count": null,
   "metadata": {},
   "outputs": [
    {
     "name": "stdout",
     "output_type": "stream",
     "text": [
      "Performing stepwise search to minimize aic\n",
      " ARIMA(0,1,0)(0,1,1)[12]             : AIC=inf, Time=65.20 sec\n",
      " ARIMA(0,1,0)(0,1,0)[12]             : AIC=-227.397, Time=9.64 sec\n",
      " ARIMA(1,1,0)(1,1,0)[12]             : AIC=-346.929, Time=47.73 sec\n",
      " ARIMA(0,1,1)(0,1,1)[12]             : AIC=inf, Time=138.24 sec\n",
      " ARIMA(1,1,0)(0,1,0)[12]             : AIC=-228.257, Time=6.83 sec\n",
      " ARIMA(1,1,0)(2,1,0)[12]             : AIC=-361.741, Time=197.36 sec\n",
      " ARIMA(1,1,0)(2,1,1)[12]             : AIC=inf, Time=401.41 sec\n",
      " ARIMA(1,1,0)(1,1,1)[12]             : AIC=-390.309, Time=183.81 sec\n",
      " ARIMA(1,1,0)(0,1,1)[12]             : AIC=inf, Time=83.78 sec\n",
      " ARIMA(1,1,0)(1,1,2)[12]             : AIC=inf, Time=537.53 sec\n",
      " ARIMA(1,1,0)(0,1,2)[12]             : AIC=-387.845, Time=443.01 sec\n",
      " ARIMA(1,1,0)(2,1,2)[12]             : AIC=-389.081, Time=612.98 sec\n",
      " ARIMA(0,1,0)(1,1,1)[12]             : AIC=-384.884, Time=75.84 sec\n",
      " ARIMA(2,1,0)(1,1,1)[12]             : AIC=-400.442, Time=248.51 sec\n",
      " ARIMA(2,1,0)(0,1,1)[12]             : AIC=inf, Time=148.66 sec\n",
      " ARIMA(2,1,0)(1,1,0)[12]             : AIC=-368.760, Time=92.27 sec\n",
      " ARIMA(2,1,0)(2,1,1)[12]             : AIC=-402.497, Time=506.09 sec\n",
      " ARIMA(2,1,0)(2,1,0)[12]             : AIC=-378.654, Time=223.16 sec\n",
      " ARIMA(2,1,0)(2,1,2)[12]             : AIC=-401.721, Time=704.60 sec\n",
      " ARIMA(2,1,0)(1,1,2)[12]             : AIC=-403.791, Time=596.19 sec\n",
      " ARIMA(2,1,0)(0,1,2)[12]             : AIC=-396.573, Time=622.83 sec\n",
      " ARIMA(3,1,0)(1,1,2)[12]             : AIC=-404.849, Time=673.79 sec\n",
      " ARIMA(3,1,0)(0,1,2)[12]             : AIC=-397.080, Time=727.13 sec\n",
      " ARIMA(3,1,0)(1,1,1)[12]             : AIC=-400.956, Time=378.11 sec\n",
      " ARIMA(3,1,0)(2,1,2)[12]             : AIC=-402.767, Time=1084.89 sec\n",
      " ARIMA(3,1,0)(0,1,1)[12]             : AIC=inf, Time=290.30 sec\n",
      " ARIMA(3,1,0)(2,1,1)[12]             : AIC=inf, Time=nan sec\n",
      " ARIMA(4,1,0)(1,1,2)[12]             : AIC=-406.240, Time=1021.83 sec\n",
      " ARIMA(4,1,0)(0,1,2)[12]             : AIC=-401.831, Time=799.20 sec\n",
      " ARIMA(4,1,0)(1,1,1)[12]             : AIC=-404.577, Time=598.25 sec\n",
      " ARIMA(4,1,0)(2,1,2)[12]             : AIC=-404.229, Time=1405.16 sec\n",
      " ARIMA(4,1,0)(0,1,1)[12]             : AIC=inf, Time=598.58 sec\n",
      " ARIMA(4,1,0)(2,1,1)[12]             : AIC=-405.411, Time=1196.02 sec\n",
      " ARIMA(5,1,0)(1,1,2)[12]             : AIC=-418.557, Time=967.52 sec\n",
      " ARIMA(5,1,0)(0,1,2)[12]             : AIC=-416.824, Time=1003.21 sec\n",
      " ARIMA(5,1,0)(1,1,1)[12]             : AIC=-417.996, Time=671.14 sec\n",
      " ARIMA(5,1,0)(2,1,2)[12]             : AIC=-416.535, Time=1884.02 sec\n",
      " ARIMA(5,1,0)(0,1,1)[12]             : AIC=inf, Time=490.16 sec\n",
      " ARIMA(5,1,0)(2,1,1)[12]             : AIC=-417.727, Time=1252.75 sec\n",
      " ARIMA(6,1,0)(1,1,2)[12]             : AIC=-424.716, Time=1377.26 sec\n",
      " ARIMA(6,1,0)(0,1,2)[12]             : AIC=-425.136, Time=667.26 sec\n",
      " ARIMA(6,1,0)(0,1,1)[12]             : AIC=inf, Time=368.92 sec\n",
      " ARIMA(6,1,0)(1,1,1)[12]             : AIC=-425.700, Time=601.72 sec\n",
      " ARIMA(6,1,0)(1,1,0)[12]             : AIC=-390.081, Time=998.42 sec\n",
      " ARIMA(6,1,0)(2,1,1)[12]             : AIC=-424.768, Time=1175.92 sec\n",
      " ARIMA(6,1,0)(0,1,0)[12]             : AIC=-306.868, Time=197.55 sec\n",
      " ARIMA(6,1,0)(2,1,0)[12]             : AIC=-404.063, Time=561.38 sec\n",
      " ARIMA(6,1,0)(2,1,2)[12]             : AIC=-420.021, Time=2313.99 sec\n",
      " ARIMA(7,1,0)(1,1,1)[12]             : AIC=-427.139, Time=552.28 sec\n",
      " ARIMA(7,1,0)(0,1,1)[12]             : AIC=inf, Time=687.04 sec\n",
      " ARIMA(7,1,0)(1,1,0)[12]             : AIC=-389.317, Time=281.82 sec\n",
      " ARIMA(7,1,0)(2,1,1)[12]             : AIC=-425.836, Time=2044.19 sec\n",
      " ARIMA(7,1,0)(1,1,2)[12]             : AIC=-425.510, Time=874.59 sec\n",
      " ARIMA(7,1,0)(0,1,0)[12]             : AIC=-306.213, Time=84.28 sec\n",
      " ARIMA(7,1,0)(0,1,2)[12]             : AIC=-426.558, Time=969.36 sec\n",
      " ARIMA(7,1,0)(2,1,0)[12]             : AIC=-404.478, Time=1475.72 sec\n",
      " ARIMA(7,1,0)(2,1,2)[12]             : AIC=-422.942, Time=1297.34 sec\n",
      " ARIMA(8,1,0)(1,1,1)[12]             : AIC=-426.771, Time=973.16 sec\n",
      " ARIMA(7,1,1)(1,1,1)[12]             : AIC=-429.234, Time=1354.01 sec\n",
      " ARIMA(7,1,1)(0,1,1)[12]             : AIC=-402.852, Time=524.58 sec\n",
      " ARIMA(7,1,1)(1,1,0)[12]             : AIC=-362.744, Time=372.16 sec\n",
      " ARIMA(7,1,1)(2,1,1)[12]             : AIC=-373.676, Time=1337.93 sec\n",
      " ARIMA(7,1,1)(1,1,2)[12]             : AIC=-425.999, Time=1159.59 sec\n",
      " ARIMA(7,1,1)(0,1,0)[12]             : AIC=-294.061, Time=112.63 sec\n",
      " ARIMA(7,1,1)(0,1,2)[12]             : AIC=-404.016, Time=1760.78 sec\n",
      " ARIMA(7,1,1)(2,1,0)[12]             : AIC=-379.772, Time=807.46 sec\n",
      " ARIMA(7,1,1)(2,1,2)[12]             : AIC=-401.334, Time=1584.04 sec\n",
      " ARIMA(6,1,1)(1,1,1)[12]             : AIC=-431.189, Time=740.40 sec\n",
      " ARIMA(6,1,1)(0,1,1)[12]             : AIC=-422.966, Time=449.82 sec\n",
      " ARIMA(6,1,1)(1,1,0)[12]             : AIC=-395.889, Time=612.80 sec\n",
      " ARIMA(6,1,1)(2,1,1)[12]             : AIC=-380.313, Time=2029.01 sec\n",
      " ARIMA(6,1,1)(1,1,2)[12]             : AIC=-430.988, Time=1379.80 sec\n",
      " ARIMA(6,1,1)(0,1,0)[12]             : AIC=-306.421, Time=198.74 sec\n",
      " ARIMA(6,1,1)(0,1,2)[12]             : AIC=-426.707, Time=1310.44 sec\n",
      " ARIMA(6,1,1)(2,1,0)[12]             : AIC=-407.970, Time=726.03 sec\n",
      " ARIMA(6,1,1)(2,1,2)[12]             : AIC=-406.722, Time=2144.60 sec\n",
      " ARIMA(5,1,1)(1,1,1)[12]             : AIC=-433.124, Time=783.06 sec\n",
      " ARIMA(5,1,1)(0,1,1)[12]             : AIC=-426.293, Time=390.23 sec\n",
      " ARIMA(5,1,1)(1,1,0)[12]             : AIC=-396.470, Time=358.11 sec\n",
      " ARIMA(5,1,1)(2,1,1)[12]             : AIC=inf, Time=1539.81 sec\n",
      " ARIMA(5,1,1)(1,1,2)[12]             : AIC=-432.970, Time=1825.24 sec\n",
      " ARIMA(5,1,1)(0,1,0)[12]             : AIC=-304.315, Time=105.53 sec\n"
     ]
    }
   ],
   "source": [
    "# Load/split your data\n",
    "# y = pm.datasets.load_wineind()\n",
    "train = data_y_2\n",
    "\n",
    "# Fit your model\n",
    "model = pm.auto_arima(train,\n",
    "                      start_p=0,start_q=0,start_P=0,\n",
    "                      max_p=12, max_q=12,\n",
    "                      m=12, seasonal=True,\n",
    "                      trace=True,\n",
    "                      d=1, D=1,\n",
    "                      method=\"basinhopping\",\n",
    "                      error_action='ignore',  # don't want to know if an order does not work\n",
    "                      suppress_warnings=True,  # don't want convergence warnings\n",
    "                      stepwise=True, njob=-1)"
   ]
  },
  {
   "cell_type": "code",
   "execution_count": null,
   "metadata": {},
   "outputs": [],
   "source": [
    "# make your forecasts\n",
    "forecasts2 = model.predict(56)  # predict N steps into the future\n",
    "\n",
    "# Visualize the forecasts (blue=train, green=forecasts)\n",
    "x = np.arange(data_y_2.shape[0]+56)\n",
    "plt.plot(x[:-56], train, c='blue')\n",
    "plt.plot(x[-56:], forecasts2, c='green')\n",
    "plt.show()"
   ]
  },
  {
   "cell_type": "code",
   "execution_count": null,
   "metadata": {},
   "outputs": [],
   "source": [
    "# Load/split your data\n",
    "# y = pm.datasets.load_wineind()\n",
    "train = data_y_3\n",
    "\n",
    "# Fit your model\n",
    "model = pm.auto_arima(train,\n",
    "                      start_p=0,start_q=0,start_P=0,\n",
    "                      max_p=12, max_q=12,\n",
    "                      m=12, seasonal=True,\n",
    "                      trace=True,\n",
    "                      d=1, D=1,\n",
    "                      method=\"basinhopping\",\n",
    "                      error_action='ignore',  # don't want to know if an order does not work\n",
    "                      suppress_warnings=True,  # don't want convergence warnings\n",
    "                      stepwise=True, njob=-1)"
   ]
  },
  {
   "cell_type": "code",
   "execution_count": null,
   "metadata": {},
   "outputs": [],
   "source": [
    "# make your forecasts\n",
    "forecasts3 = model.predict(56)  # predict N steps into the future\n",
    "\n",
    "# Visualize the forecasts (blue=train, green=forecasts)\n",
    "x = np.arange(data_y_3.shape[0]+56)\n",
    "plt.plot(x[:-56], train, c='blue')\n",
    "plt.plot(x[-56:], forecasts3, c='green')\n",
    "plt.show()"
   ]
  },
  {
   "cell_type": "code",
   "execution_count": null,
   "metadata": {},
   "outputs": [],
   "source": [
    "forecasts"
   ]
  },
  {
   "cell_type": "code",
   "execution_count": null,
   "metadata": {},
   "outputs": [],
   "source": [
    "forecasts2"
   ]
  },
  {
   "cell_type": "code",
   "execution_count": null,
   "metadata": {},
   "outputs": [],
   "source": [
    "forecasts3"
   ]
  },
  {
   "cell_type": "code",
   "execution_count": 47,
   "metadata": {},
   "outputs": [],
   "source": [
    "result = pd.DataFrame([list(forecasts),list(forecasts2),list(forecasts3)])"
   ]
  },
  {
   "cell_type": "code",
   "execution_count": 48,
   "metadata": {},
   "outputs": [],
   "source": [
    "result.to_csv(\"result_9_1_2.csv\")"
   ]
  },
  {
   "cell_type": "code",
   "execution_count": null,
   "metadata": {},
   "outputs": [],
   "source": []
  }
 ],
 "metadata": {
  "kernelspec": {
   "display_name": "Python 3",
   "language": "python",
   "name": "python3"
  },
  "language_info": {
   "codemirror_mode": {
    "name": "ipython",
    "version": 3
   },
   "file_extension": ".py",
   "mimetype": "text/x-python",
   "name": "python",
   "nbconvert_exporter": "python",
   "pygments_lexer": "ipython3",
   "version": "3.8.5"
  }
 },
 "nbformat": 4,
 "nbformat_minor": 4
}
